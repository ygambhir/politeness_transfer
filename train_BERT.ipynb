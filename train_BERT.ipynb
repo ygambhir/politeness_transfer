{
 "cells": [
  {
   "cell_type": "code",
   "execution_count": null,
   "metadata": {},
   "outputs": [],
   "source": [
    "from eecs598.transformers.src.transformers import BertGenerationTokenizer, BertGenerationDecoder, BertGenerationConfig,  BertGenerationEncoder"
   ]
  },
  {
   "cell_type": "code",
   "execution_count": null,
   "metadata": {},
   "outputs": [],
   "source": [
    "import torch"
   ]
  },
  {
   "cell_type": "code",
   "execution_count": null,
   "metadata": {},
   "outputs": [],
   "source": [
    "### This is an original experiment with 'BERTGeneration', but it seems like this isn't the model we should use\n",
    "\n",
    "tokenizer = BertGenerationTokenizer.from_pretrained('google/bert_for_seq_generation_L-24_bbc_encoder')\n",
    "config = BertGenerationConfig.from_pretrained(\"google/bert_for_seq_generation_L-24_bbc_encoder\")\n",
    "config_enc = BertGenerationConfig.from_pretrained(\"google/bert_for_seq_generation_L-24_bbc_encoder\")\n",
    "config.is_decoder = True\n",
    "model = BertGenerationDecoder.from_pretrained('google/bert_for_seq_generation_L-24_bbc_encoder', config=config)\n",
    "enc_model = BertGenerationEncoder.from_pretrained('google/bert_for_seq_generation_L-24_bbc_encoder', config=config_enc)"
   ]
  },
  {
   "cell_type": "code",
   "execution_count": null,
   "metadata": {},
   "outputs": [],
   "source": [
    "### Further exploration of BERTGeneration\n",
    "inputs = tokenizer([\"Hello, my dog is cute\"], return_tensors=\"pt\")\n",
    "label_outputs = tokenizer([\"and stuff and winaokwnr ajdns\"], return_tensors=\"pt\")\n",
    "print(inputs['input_ids'].shape)\n",
    "print(label_outputs['input_ids'].shape)\n",
    "outputs = model(inputs['input_ids'], inputs['attention_mask'], labels=label_outputs['input_ids'])\n",
    "print(outputs[0])"
   ]
  },
  {
   "cell_type": "code",
   "execution_count": null,
   "metadata": {},
   "outputs": [],
   "source": []
  },
  {
   "cell_type": "code",
   "execution_count": null,
   "metadata": {},
   "outputs": [],
   "source": [
    "input_ids = torch.tensor(tokenizer.encode(\"Hello, my dog is cute\", add_special_tokens=True)).unsqueeze(0) "
   ]
  },
  {
   "cell_type": "code",
   "execution_count": null,
   "metadata": {},
   "outputs": [],
   "source": [
    "outputs = model(**input_ids)"
   ]
  },
  {
   "cell_type": "code",
   "execution_count": null,
   "metadata": {},
   "outputs": [],
   "source": [
    "from eecs598.transformers.src.transformers import EncoderDecoderModel, BertTokenizer"
   ]
  },
  {
   "cell_type": "code",
   "execution_count": null,
   "metadata": {},
   "outputs": [],
   "source": [
    "## This is the Seq2Seq model we want to use for our task, more details here:\n",
    "## https://huggingface.co/transformers/model_doc/encoderdecoder.html\n",
    "\n",
    "model = EncoderDecoderModel.from_encoder_decoder_pretrained('bert-base-uncased', 'bert-base-uncased') # initialize Bert2Bert from pre-trained checkpoints\n"
   ]
  },
  {
   "cell_type": "code",
   "execution_count": null,
   "metadata": {},
   "outputs": [],
   "source": [
    "tokenizer = BertTokenizer.from_pretrained('bert-base-uncased')\n",
    "print(model)"
   ]
  },
  {
   "cell_type": "code",
   "execution_count": null,
   "metadata": {},
   "outputs": [],
   "source": [
    "input_ids = torch.tensor(tokenizer.encode([\"What is the\", \"and what else\"], add_special_tokens=True)).unsqueeze(0)  # Batch size 1\n",
    "label_outputs = torch.tensor(tokenizer.encode([\"name of the gym?\", \"can we do here\"], add_special_tokens=True)).unsqueeze(0)\n",
    "outputs = model(input_ids=input_ids, decoder_input_ids=input_ids, labels=label_outputs)\n",
    "print(outputs[0])"
   ]
  },
  {
   "cell_type": "code",
   "execution_count": null,
   "metadata": {},
   "outputs": [],
   "source": [
    "generated = model.generate(input_ids, decoder_start_token_id=model.config.decoder.pad_token_id, do_sample=True)\n",
    "print(tokenizer.decode(generated[0], skip_special_tokens=True))"
   ]
  },
  {
   "cell_type": "code",
   "execution_count": null,
   "metadata": {},
   "outputs": [],
   "source": [
    "from eecs598.transformers.src.transformers import AdamW\n",
    "optimizer = AdamW(model.parameters(), lr=1e-5)"
   ]
  },
  {
   "cell_type": "code",
   "execution_count": null,
   "metadata": {},
   "outputs": [],
   "source": [
    "## Simple training script with just a couple examples to demo\n",
    "## Based on https://huggingface.co/transformers/training.html#pytorch\n",
    "\n",
    "num_epochs = 10\n",
    "text_batch = [\"I love Pixar.\", \"I don't care for Pixar.\"]\n",
    "input_ids = torch.tensor(tokenizer.encode(text_batch, add_special_tokens=True)).unsqueeze(0)  # Batch size 1\n",
    "label_outputs = torch.tensor(tokenizer.encode([\"so much\",\"at all\"], add_special_tokens=True)).unsqueeze(0)  # Batch size 1\n",
    "for i in range(num_epochs):\n",
    "    print(i)\n",
    "    optimizer.zero_grad()\n",
    "    outputs = model(input_ids=input_ids, decoder_input_ids=input_ids, labels=label_outputs)\n",
    "    loss = outputs[0]\n",
    "    loss.backward()\n",
    "    optimizer.step()"
   ]
  }
 ],
 "metadata": {
  "kernelspec": {
   "display_name": "Python 3",
   "language": "python",
   "name": "python3"
  },
  "language_info": {
   "codemirror_mode": {
    "name": "ipython",
    "version": 3
   },
   "file_extension": ".py",
   "mimetype": "text/x-python",
   "name": "python",
   "nbconvert_exporter": "python",
   "pygments_lexer": "ipython3",
   "version": "3.6.8"
  }
 },
 "nbformat": 4,
 "nbformat_minor": 2
}
